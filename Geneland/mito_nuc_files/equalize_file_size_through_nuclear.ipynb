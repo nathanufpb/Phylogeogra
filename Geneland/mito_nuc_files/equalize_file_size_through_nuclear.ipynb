{
 "cells": [
  {
   "cell_type": "code",
   "execution_count": 8,
   "metadata": {},
   "outputs": [
    {
     "name": "stdout",
     "output_type": "stream",
     "text": [
      "IDs encontrados em cmyc-phased_exon2.fas: {'AA925', 'FC1015', 'BC765', 'TAP1475', 'FC1038', 'BC727', 'BC728', 'BC730', 'FC1037', 'SM1553', 'SM1582', 'AA946', 'BC726', 'FC1020', 'TAP1476', 'SM1577', 'SM1580', 'SM1587', 'BC729', 'SM1578', 'TAP1477', 'AA936', 'TAP1483', 'BMD376', 'FC481', 'BC766', 'AA949', 'TAP1479', 'AA947', 'BMD840', 'FC1058', 'TAP1480', 'BMD377', 'BMD826', 'BC763', 'TAP1474', 'BC770', 'SM1581', 'AA948', 'BMD830', 'FC1065', 'FC1059'}\n",
      "IDs encontrados em cmyc-phased_intron2.fas: {'AA925', 'FC1015', 'BC765', 'TAP1475', 'FC1038', 'BC727', 'BC728', 'BC730', 'FC1037', 'SM1553', 'SM1582', 'AA946', 'BC726', 'FC1020', 'TAP1476', 'SM1577', 'SM1580', 'SM1587', 'BC729', 'SM1578', 'TAP1477', 'AA936', 'TAP1483', 'BMD376', 'FC481', 'BC766', 'AA949', 'TAP1479', 'AA947', 'BMD840', 'FC1058', 'TAP1480', 'BMD377', 'BMD826', 'BC763', 'TAP1474', 'BC770', 'SM1581', 'AA948', 'BMD830', 'FC1065', 'FC1059'}\n",
      "IDs encontrados em cmyc-phased_exon3.fas: {'AA925', 'FC1015', 'BC765', 'TAP1475', 'FC1038', 'BC727', 'BC728', 'BC730', 'FC1037', 'SM1553', 'SM1582', 'AA946', 'BC726', 'FC1020', 'TAP1476', 'SM1577', 'SM1580', 'SM1587', 'BC729', 'SM1578', 'TAP1477', 'AA936', 'TAP1483', 'BMD376', 'FC481', 'BC766', 'AA949', 'TAP1479', 'AA947', 'BMD840', 'FC1058', 'TAP1480', 'BMD377', 'BMD826', 'BC763', 'TAP1474', 'BC770', 'SM1581', 'AA948', 'BMD830', 'FC1065', 'FC1059'}\n",
      "IDs combinados dos arquivos cmyc: {'FC1015', 'TAP1475', 'FC1038', 'BC727', 'BC728', 'FC1037', 'SM1582', 'AA946', 'FC1020', 'TAP1476', 'SM1580', 'TAP1477', 'BC729', 'SM1578', 'TAP1483', 'BMD376', 'BC766', 'AA949', 'TAP1479', 'AA947', 'FC1058', 'TAP1480', 'BMD377', 'TAP1474', 'SM1581', 'AA925', 'BC765', 'BC730', 'SM1553', 'BC726', 'SM1577', 'SM1587', 'AA936', 'FC481', 'BMD840', 'BMD826', 'BC763', 'BC770', 'AA948', 'BMD830', 'FC1065', 'FC1059'}\n",
      "Arquivo: ND2_Proceratophrys_boiei_aligned.fas\n",
      "  Total de sequências antes da filtragem: 104\n",
      "  Sequências mantidas após a filtragem: 42\n",
      "  Sequências filtradas: 62\n",
      "\n",
      "Arquivo: cytb_Proceratophrys_boiei_aligned.fas\n",
      "  Total de sequências antes da filtragem: 104\n",
      "  Sequências mantidas após a filtragem: 42\n",
      "  Sequências filtradas: 62\n",
      "\n"
     ]
    }
   ],
   "source": [
    "import os\n",
    "from Bio import SeqIO\n",
    "\n",
    "# Caminho para a pasta contendo os arquivos .fas (diretório atual)\n",
    "folder_path = os.getcwd()\n",
    "\n",
    "# Função para obter IDs de sequências de um arquivo .fas (apenas a parte antes do \"-\")\n",
    "def get_ids_from_fasta(file_path):\n",
    "    ids = set()\n",
    "    with open(file_path, 'r') as file:\n",
    "        for record in SeqIO.parse(file, 'fasta'):\n",
    "            # Extrair a parte antes do \"-\"\n",
    "            base_id = record.id.split('-')[0]\n",
    "            ids.add(base_id)\n",
    "    return ids\n",
    "\n",
    "# Obter IDs dos arquivos cmyc\n",
    "cmyc_ids = set()\n",
    "for file_name in os.listdir(folder_path):\n",
    "    if 'cmyc' in file_name and file_name.endswith('.fas'):\n",
    "        file_path = os.path.join(folder_path, file_name)\n",
    "        file_ids = get_ids_from_fasta(file_path)\n",
    "        print(f\"IDs encontrados em {file_name}: {file_ids}\")  # Depuração\n",
    "        cmyc_ids.update(file_ids)\n",
    "\n",
    "print(f\"IDs combinados dos arquivos cmyc: {cmyc_ids}\")\n",
    "\n",
    "# Filtrar sequências dos arquivos cytb e ND2 e comparar quantidades\n",
    "for file_name in os.listdir(folder_path):\n",
    "    if ('cytb' in file_name or 'ND2' in file_name) and file_name.endswith('.fas'):\n",
    "        input_file_path = os.path.join(folder_path, file_name)\n",
    "        output_file_path = os.path.join(folder_path, 'filtered_' + file_name)\n",
    "        \n",
    "        # Contadores para análise\n",
    "        total_sequences = 0\n",
    "        kept_sequences = 0\n",
    "\n",
    "        with open(input_file_path, 'r') as input_file, open(output_file_path, 'w') as output_file:\n",
    "            for record in SeqIO.parse(input_file, 'fasta'):\n",
    "                total_sequences += 1  # Contar todas as sequências originais\n",
    "                # Comparar a parte antes do \"-\"\n",
    "                base_id = record.id.split('-')[0]\n",
    "                if base_id in cmyc_ids:\n",
    "                    SeqIO.write(record, output_file, 'fasta')\n",
    "                    kept_sequences += 1  # Contar sequências mantidas após o filtro\n",
    "\n",
    "        # Exibir resultados da filtragem\n",
    "        print(f\"Arquivo: {file_name}\")\n",
    "        print(f\"  Total de sequências antes da filtragem: {total_sequences}\")\n",
    "        print(f\"  Sequências mantidas após a filtragem: {kept_sequences}\")\n",
    "        print(f\"  Sequências filtradas: {total_sequences - kept_sequences}\\n\")"
   ]
  }
 ],
 "metadata": {
  "kernelspec": {
   "display_name": "Python 3",
   "language": "python",
   "name": "python3"
  },
  "language_info": {
   "codemirror_mode": {
    "name": "ipython",
    "version": 3
   },
   "file_extension": ".py",
   "mimetype": "text/x-python",
   "name": "python",
   "nbconvert_exporter": "python",
   "pygments_lexer": "ipython3",
   "version": "3.10.12"
  }
 },
 "nbformat": 4,
 "nbformat_minor": 2
}
