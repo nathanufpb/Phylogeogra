{
 "cells": [
  {
   "cell_type": "markdown",
   "metadata": {},
   "source": [
    "os códigos precisam ser iguais a esses: código AA = 7º 36’ S, 35º 22’ W; o código FC = 8º 43’ S, 35º 50’ W; o código TAP = 8º 01’S, 35º 11’W; o código BC = 8º 22’ S, 36º 01’ W; BMD = 8º 12’ S, 36º 24’ W; SM = 3º 53’ S, 38º 43’ W"
   ]
  },
  {
   "cell_type": "code",
   "execution_count": 22,
   "metadata": {
    "vscode": {
     "languageId": "ruby"
    }
   },
   "outputs": [
    {
     "data": {
      "text/html": [
       "<div>\n",
       "<style scoped>\n",
       "    .dataframe tbody tr th:only-of-type {\n",
       "        vertical-align: middle;\n",
       "    }\n",
       "\n",
       "    .dataframe tbody tr th {\n",
       "        vertical-align: top;\n",
       "    }\n",
       "\n",
       "    .dataframe thead th {\n",
       "        text-align: right;\n",
       "    }\n",
       "</style>\n",
       "<table border=\"1\" class=\"dataframe\">\n",
       "  <thead>\n",
       "    <tr style=\"text-align: right;\">\n",
       "      <th></th>\n",
       "      <th>Longitude</th>\n",
       "      <th>Latitude</th>\n",
       "    </tr>\n",
       "  </thead>\n",
       "  <tbody>\n",
       "    <tr>\n",
       "      <th>0</th>\n",
       "      <td>-35.3667</td>\n",
       "      <td>-7.6</td>\n",
       "    </tr>\n",
       "    <tr>\n",
       "      <th>1</th>\n",
       "      <td>-35.3667</td>\n",
       "      <td>-7.6</td>\n",
       "    </tr>\n",
       "    <tr>\n",
       "      <th>2</th>\n",
       "      <td>-35.3667</td>\n",
       "      <td>-7.6</td>\n",
       "    </tr>\n",
       "    <tr>\n",
       "      <th>3</th>\n",
       "      <td>-35.3667</td>\n",
       "      <td>-7.6</td>\n",
       "    </tr>\n",
       "    <tr>\n",
       "      <th>4</th>\n",
       "      <td>-35.3667</td>\n",
       "      <td>-7.6</td>\n",
       "    </tr>\n",
       "  </tbody>\n",
       "</table>\n",
       "</div>"
      ],
      "text/plain": [
       "   Longitude  Latitude\n",
       "0   -35.3667      -7.6\n",
       "1   -35.3667      -7.6\n",
       "2   -35.3667      -7.6\n",
       "3   -35.3667      -7.6\n",
       "4   -35.3667      -7.6"
      ]
     },
     "execution_count": 22,
     "metadata": {},
     "output_type": "execute_result"
    }
   ],
   "source": [
    "\n",
    "# Caminho do arquivo a ser atualizado\n",
    "file_path = '/home/nathan/Documents/Doutorado_diversidade_genética/Phylogeogra/Geneland/Scripts/Proceratophrys_boiei_haplotype_matrix_sorted_nuclear_with_individuals_NEW.txt'\n",
    "\n",
    "output_file = '/home/nathan/Documents/Doutorado_diversidade_genética/Phylogeogra/Geneland/Scripts/Proceratophrys_boiei_haplotype_matrix_sorted_nuclear_with_individuals_NEW_geo.txt'\n",
    "\n",
    "# Carregar o arquivo em um DataFrame\n",
    "df_file = pd.read_csv(file_path, sep='\\t')\n",
    "\n",
    "# Criar o DataFrame de códigos e coordenadas\n",
    "data = {\n",
    "    'Codigo': ['AA', 'FC', 'TAP', 'BC', 'BMD', 'SM'],\n",
    "    'Latitude': [-7.6, -8.7167, -8.0167, -8.3667, -8.2, -3.8833],\n",
    "    'Longitude': [-35.3667, -35.8333, -35.1833, -36.0167, -36.4, -38.7167]\n",
    "}\n",
    "df = pd.DataFrame(data)\n",
    "\n",
    "# Adicionar uma nova coluna em df_file com o código identificado\n",
    "df_file['Codigo'] = df_file['Individual'].str.extract(r'^(' + '|'.join(df['Codigo']) + ')')\n",
    "\n",
    "# Mapear as coordenadas correspondentes ao Código\n",
    "df_file['Latitude'] = df_file['Codigo'].map(df.set_index('Codigo')['Latitude'])\n",
    "df_file['Longitude'] = df_file['Codigo'].map(df.set_index('Codigo')['Longitude'])\n",
    "\n",
    "# Selecionar apenas as colunas 'Latitude' e 'Longitude'\n",
    "df_coordinates = df_file[['Latitude', 'Longitude']]\n",
    "\n",
    "# Alterar a ordem das colunas para Longitude e depois Latitude\n",
    "df_coordinates = df_coordinates[['Longitude', 'Latitude']]\n",
    "\n",
    "# Salvar o arquivo atualizado com apenas as coordenadas\n",
    "df_coordinates.to_csv(output_file, sep='\\t', index=False, header=False)\n",
    "\n",
    "# Exibir o DataFrame atualizado\n",
    "df_coordinates.head()\n",
    "\n"
   ]
  },
  {
   "cell_type": "code",
   "execution_count": null,
   "metadata": {
    "vscode": {
     "languageId": "ruby"
    }
   },
   "outputs": [
    {
     "name": "stdout",
     "output_type": "stream",
     "text": [
      "   Latitude  Longitude\n",
      "0      -7.6   -35.3667\n",
      "1      -7.6   -35.3667\n",
      "2      -7.6   -35.3667\n",
      "3      -7.6   -35.3667\n",
      "4      -7.6   -35.3667\n"
     ]
    }
   ],
   "source": [
    "\n",
    "# Caminho do arquivo a ser atualizado\n",
    "file_path = '/home/nathan/Documents/Doutorado_diversidade_genética/Phylogeogra/Geneland/Scripts/Proceratophrys_boiei_haplotype_matrix_sorted_mitocondrial_with_individuals.txt'\n",
    "\n",
    "output_file = '/home/nathan/Documents/Doutorado_diversidade_genética/Phylogeogra/Geneland/Scripts/Proceratophrys_boiei_haplotype_matrix_sorted_mitocondrial_with_individuals_geo.txt'\n",
    "\n",
    "# Carregar o arquivo em um DataFrame\n",
    "df_file = pd.read_csv(file_path, sep='\\t')\n",
    "\n",
    "# Criar o DataFrame de códigos e coordenadas\n",
    "data = {\n",
    "    'Codigo': ['AA', 'FC', 'TAP', 'BC', 'BMD', 'SM'],\n",
    "    'Latitude': [-7.6, -8.7167, -8.0167, -8.3667, -8.2, -3.8833],\n",
    "    'Longitude': [-35.3667, -35.8333, -35.1833, -36.0167, -36.4, -38.7167]\n",
    "}\n",
    "df = pd.DataFrame(data)\n",
    "\n",
    "# Adicionar uma nova coluna em df_file com o código identificado\n",
    "df_file['Codigo'] = df_file['Individual'].str.extract(r'^(' + '|'.join(df['Codigo']) + ')')\n",
    "\n",
    "# Mapear as coordenadas correspondentes ao Código\n",
    "df_file['Latitude'] = df_file['Codigo'].map(df.set_index('Codigo')['Latitude'])\n",
    "df_file['Longitude'] = df_file['Codigo'].map(df.set_index('Codigo')['Longitude'])\n",
    "\n",
    "# Selecionar apenas as colunas 'Latitude' e 'Longitude'\n",
    "df_coordinates = df_file[['Latitude', 'Longitude']]\n",
    "\n",
    "# Alterar a ordem das colunas para Longitude e depois Latitude\n",
    "df_coordinates = df_coordinates[['Longitude', 'Latitude']]\n",
    "\n",
    "# Salvar o arquivo atualizado com apenas as coordenadas\n",
    "df_coordinates.to_csv(output_file, sep='\\t', index=False, header=False)\n",
    "\n",
    "# Exibir o DataFrame atualizado\n",
    "df_coordinates.head()\n",
    "\n"
   ]
  }
 ],
 "metadata": {
  "kernelspec": {
   "display_name": "Python 3",
   "language": "python",
   "name": "python3"
  },
  "language_info": {
   "codemirror_mode": {
    "name": "ipython",
    "version": 3
   },
   "file_extension": ".py",
   "mimetype": "text/x-python",
   "name": "python",
   "nbconvert_exporter": "python",
   "pygments_lexer": "ipython3",
   "version": "3.10.12"
  }
 },
 "nbformat": 4,
 "nbformat_minor": 2
}
