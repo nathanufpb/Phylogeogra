{
 "cells": [
  {
   "cell_type": "code",
   "execution_count": 3,
   "metadata": {},
   "outputs": [],
   "source": [
    "# Import necessary libraries\n",
    "import pandas as pd\n",
    "\n",
    "# Define the populations\n",
    "pop_norte = ['AA', 'TAP', 'SM']\n",
    "pop_sul = ['BC', 'BMD', 'FC']\n",
    "\n",
    "# Function to determine population based on sequence name\n",
    "def determine_population(seq_name):\n",
    "    for prefix in pop_norte:\n",
    "        if seq_name.startswith(prefix):\n",
    "            return 'Norte'\n",
    "    for prefix in pop_sul:\n",
    "        if seq_name.startswith(prefix):\n",
    "            return 'Sul'\n",
    "    return 'Unknown'\n",
    "\n",
    "# Read the .phy file\n",
    "phy_file = 'cmyc-phased_exon2.phy'\n",
    "with open(phy_file, 'r') as file:\n",
    "    lines = file.readlines()\n",
    "\n",
    "# Extract sequence names\n",
    "sequence_names = [line.split()[0] for line in lines[1:] if len(line.split()) > 0]\n",
    "\n",
    "# Create a DataFrame for traits\n",
    "traits_df = pd.DataFrame({\n",
    "    'Sequence': sequence_names,\n",
    "    'Population': [determine_population(name) for name in sequence_names]\n",
    "})\n",
    "\n",
    "# Save the traits to a file\n",
    "traits_file = 'traits.txt'\n",
    "traits_df.to_csv(traits_file, sep='\\t', index=False)"
   ]
  }
 ],
 "metadata": {
  "kernelspec": {
   "display_name": "Python 3",
   "language": "python",
   "name": "python3"
  },
  "language_info": {
   "codemirror_mode": {
    "name": "ipython",
    "version": 3
   },
   "file_extension": ".py",
   "mimetype": "text/x-python",
   "name": "python",
   "nbconvert_exporter": "python",
   "pygments_lexer": "ipython3",
   "version": "3.10.12"
  }
 },
 "nbformat": 4,
 "nbformat_minor": 2
}
