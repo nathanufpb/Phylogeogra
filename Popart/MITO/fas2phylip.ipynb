{
 "cells": [
  {
   "cell_type": "code",
   "execution_count": 1,
   "metadata": {},
   "outputs": [
    {
     "name": "stdout",
     "output_type": "stream",
     "text": [
      "Conversão concluída!\n"
     ]
    }
   ],
   "source": [
    "import os\n",
    "from Bio import AlignIO\n",
    "\n",
    "# Caminho para a pasta contendo os arquivos .fas e a pasta de saída\n",
    "script_dir = os.getcwd()\n",
    "input_folder = script_dir\n",
    "output_folder = os.path.join(script_dir, 'phylip')\n",
    "\n",
    "# Cria a pasta de saída se não existir\n",
    "if not os.path.exists(output_folder):\n",
    "    os.makedirs(output_folder)\n",
    "\n",
    "# Itera sobre todos os arquivos na pasta de entrada\n",
    "for filename in os.listdir(input_folder):\n",
    "    if filename.endswith('.fas'):\n",
    "        input_path = os.path.join(input_folder, filename)\n",
    "        output_path = os.path.join(output_folder, filename.replace('.fas', '.phy'))\n",
    "        \n",
    "        # Lê o alinhamento no formato FASTA\n",
    "        alignment = AlignIO.read(input_path, 'fasta')\n",
    "        \n",
    "        # Escreve o alinhamento no formato PHYLIP\n",
    "        AlignIO.write(alignment, output_path, 'phylip')\n",
    "\n",
    "print(\"Conversão concluída!\")"
   ]
  },
  {
   "cell_type": "code",
   "execution_count": null,
   "metadata": {},
   "outputs": [],
   "source": []
  }
 ],
 "metadata": {
  "kernelspec": {
   "display_name": "Python 3",
   "language": "python",
   "name": "python3"
  },
  "language_info": {
   "codemirror_mode": {
    "name": "ipython",
    "version": 3
   },
   "file_extension": ".py",
   "mimetype": "text/x-python",
   "name": "python",
   "nbconvert_exporter": "python",
   "pygments_lexer": "ipython3",
   "version": "3.10.12"
  }
 },
 "nbformat": 4,
 "nbformat_minor": 2
}
