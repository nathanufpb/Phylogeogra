{
 "cells": [
  {
   "cell_type": "code",
   "execution_count": 9,
   "metadata": {
    "vscode": {
     "languageId": "ruby"
    }
   },
   "outputs": [
    {
     "name": "stdout",
     "output_type": "stream",
     "text": [
      "  ,Norte,       Sul\n",
      "0       AA925-1,1,0\n",
      "1       AA925-2,1,0\n",
      "2       AA936-1,1,0\n",
      "3       AA936-2,1,0\n",
      "4       AA946-1,1,0\n"
     ]
    }
   ],
   "source": [
    "import pandas as pd\n",
    "\n",
    "# Definindo o caminho do arquivo\n",
    "input_file_path = '/home/nathan/Documents/Doutorado_diversidade_genética/Phylogeogra/Popart/MITO/phylip/traits.txt'\n",
    "\n",
    "# Lendo o arquivo .txt como uma planilha\n",
    "df = pd.read_csv(input_file_path, delimiter='\\t')  # Ajuste o delimitador conforme necessário\n",
    "\n",
    "# Exibindo as primeiras linhas do DataFrame\n",
    "print(df.head())"
   ]
  },
  {
   "cell_type": "code",
   "execution_count": 10,
   "metadata": {},
   "outputs": [
    {
     "name": "stdout",
     "output_type": "stream",
     "text": [
      "O número de colunas é: 1\n"
     ]
    }
   ],
   "source": [
    "num_colunas = df.shape[1]\n",
    "print(f'O número de colunas é: {num_colunas}')"
   ]
  },
  {
   "cell_type": "code",
   "execution_count": 12,
   "metadata": {},
   "outputs": [
    {
     "name": "stdout",
     "output_type": "stream",
     "text": [
      "  ,Norte,       Sul     ID   Rest\n",
      "0       AA925-1,1,0  AA925  1,1,0\n",
      "1       AA925-2,1,0  AA925  2,1,0\n",
      "2       AA936-1,1,0  AA936  1,1,0\n",
      "3       AA936-2,1,0  AA936  2,1,0\n",
      "4       AA946-1,1,0  AA946  1,1,0\n"
     ]
    }
   ],
   "source": [
    "# Separando a primeira coluna a partir do caractere \"-\"\n",
    "df[['ID', 'Rest']] = df.iloc[:, 0].str.split('-', n=1, expand=True)\n",
    "\n",
    "# Exibindo as primeiras linhas do DataFrame após a separação\n",
    "print(df.head())"
   ]
  },
  {
   "cell_type": "code",
   "execution_count": 15,
   "metadata": {},
   "outputs": [
    {
     "name": "stdout",
     "output_type": "stream",
     "text": [
      "O número de colunas é: 3\n"
     ]
    }
   ],
   "source": [
    "num_colunas = df.shape[1]\n",
    "print(f'O número de colunas é: {num_colunas}')"
   ]
  },
  {
   "cell_type": "code",
   "execution_count": 16,
   "metadata": {},
   "outputs": [
    {
     "name": "stdout",
     "output_type": "stream",
     "text": [
      "  ,Norte,       Sul     ID   Rest Rest_Part1 Rest_Part2\n",
      "0       AA925-1,1,0  AA925  1,1,0          1        1,0\n",
      "1       AA925-2,1,0  AA925  2,1,0          2        1,0\n",
      "2       AA936-1,1,0  AA936  1,1,0          1        1,0\n",
      "3       AA936-2,1,0  AA936  2,1,0          2        1,0\n",
      "4       AA946-1,1,0  AA946  1,1,0          1        1,0\n"
     ]
    }
   ],
   "source": [
    "# Separando a coluna Rest a partir da primeira vírgula\n",
    "df[['Rest_Part1', 'Rest_Part2']] = df['Rest'].str.split(',', n=1, expand=True)\n",
    "\n",
    "# Exibindo as primeiras linhas do DataFrame após a separação\n",
    "print(df.head())"
   ]
  },
  {
   "cell_type": "code",
   "execution_count": 19,
   "metadata": {
    "vscode": {
     "languageId": "ruby"
    }
   },
   "outputs": [
    {
     "name": "stdout",
     "output_type": "stream",
     "text": [
      "Arquivo salvo em: /home/nathan/Documents/Doutorado_diversidade_genética/Phylogeogra/Popart/MITO/phylip/filtered_traits.txt\n"
     ]
    }
   ],
   "source": [
    "# Selecionando as colunas ID e Rest_Part2\n",
    "df_filtered = df[['ID', 'Rest_Part2']]\n",
    "\n",
    "# Removendo linhas duplicadas\n",
    "df_filtered = df_filtered.drop_duplicates()\n",
    "\n",
    "# Definindo o caminho do novo arquivo de saída\n",
    "output_file_path = '/home/nathan/Documents/Doutorado_diversidade_genética/Phylogeogra/Popart/MITO/phylip/filtered_traits.txt'\n",
    "\n",
    "# Salvando o DataFrame filtrado em um novo arquivo .txt\n",
    "df_filtered.to_csv(output_file_path, sep='\\t', index=False)\n",
    "\n",
    "print(f'Arquivo salvo em: {output_file_path}')"
   ]
  }
 ],
 "metadata": {
  "kernelspec": {
   "display_name": "Python 3",
   "language": "python",
   "name": "python3"
  },
  "language_info": {
   "codemirror_mode": {
    "name": "ipython",
    "version": 3
   },
   "file_extension": ".py",
   "mimetype": "text/x-python",
   "name": "python",
   "nbconvert_exporter": "python",
   "pygments_lexer": "ipython3",
   "version": "3.10.12"
  }
 },
 "nbformat": 4,
 "nbformat_minor": 2
}
