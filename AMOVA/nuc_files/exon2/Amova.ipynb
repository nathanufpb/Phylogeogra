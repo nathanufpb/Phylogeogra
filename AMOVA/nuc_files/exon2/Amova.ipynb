{
 "cells": [
  {
   "cell_type": "code",
   "execution_count": 1,
   "metadata": {},
   "outputs": [
    {
     "name": "stdout",
     "output_type": "stream",
     "text": [
      "Defaulting to user installation because normal site-packages is not writeable\n",
      "Requirement already satisfied: biopython in /home/nathan/.local/lib/python3.10/site-packages (1.83)\n",
      "Requirement already satisfied: pandas in /home/nathan/.local/lib/python3.10/site-packages (2.2.1)\n",
      "Requirement already satisfied: scipy in /home/nathan/.local/lib/python3.10/site-packages (1.12.0)\n",
      "Requirement already satisfied: numpy in /home/nathan/.local/lib/python3.10/site-packages (from biopython) (1.26.3)\n",
      "Requirement already satisfied: pytz>=2020.1 in /usr/lib/python3/dist-packages (from pandas) (2022.1)\n",
      "Requirement already satisfied: tzdata>=2022.7 in /home/nathan/.local/lib/python3.10/site-packages (from pandas) (2024.1)\n",
      "Requirement already satisfied: python-dateutil>=2.8.2 in /home/nathan/.local/lib/python3.10/site-packages (from pandas) (2.8.2)\n",
      "Requirement already satisfied: six>=1.5 in /usr/lib/python3/dist-packages (from python-dateutil>=2.8.2->pandas) (1.16.0)\n"
     ]
    }
   ],
   "source": [
    "!pip install biopython pandas scipy"
   ]
  },
  {
   "cell_type": "code",
   "execution_count": 4,
   "metadata": {},
   "outputs": [],
   "source": [
    "# Importar bibliotecas necessárias\n",
    "from Bio import AlignIO\n",
    "import pandas as pd\n",
    "from scipy.spatial.distance import pdist, squareform\n",
    "from scipy.stats import f_oneway\n",
    "import numpy as np"
   ]
  },
  {
   "cell_type": "code",
   "execution_count": 3,
   "metadata": {},
   "outputs": [
    {
     "name": "stdout",
     "output_type": "stream",
     "text": [
      "Alignment with 84 rows and 301 columns\n",
      "GAGAAAGTGGTGTCGGAAAAGCTGGCGTCCTACCAGGCTTCTAG...CTG AA925-1\n",
      "GAGAAAGTGGTGTCGGAAAAGCTGGCGTCCTACCAGGCTTCTAG...CTG AA925-2\n",
      "GAGAAAGTGGTGTCGGAAAAGCTGGCGTCCTACCAGGCTTCTAG...CTG AA936-1\n",
      "GAGAAAGTGGTGTCGGAAAAGCTGGCGTCCTACCAGGCTTCTAG...CTG AA936-2\n",
      "GAGAAAGTGGTGTCGGAAAAGCTGGCGTCCTACCAGGCTTCTAG...CTG AA946-1\n",
      "GAGAAAGTGGTGTCGGAAAAGCTGGCGTCCTACCAGGCTTCTAG...CTG AA946-2\n",
      "GAGAAAGTGGTGTCGGAAAAGCTGGCGTCCTACCAGGCTTCTAG...CTG AA947-1\n",
      "GAGAAAGTGGTGTCGGAAAAGCTGGCGTCCTACCAGGCTTCTAG...CTG AA947-2\n",
      "GAGAAAGTGGTGTCGGAAAAGCTGGCGTCCTACCAGGCTTCTAG...CTG AA948-1\n",
      "GAGAAAGTGGTGTCGGAAAAGCTGGCGTCCTACCAGGCTTCTAG...CTG AA948-2\n",
      "GAGAAAGTGGTGTCGGAAAAGCTGGCGTCCTACCAGGCTTCTAG...CTG AA949-1\n",
      "GAGAAAGTGGTGTCGGAAAAGCTGGCGTCCTACCAGGCTTCTAG...CTG AA949-2\n",
      "GAGAAAGTGGTGTCGGAAAAGCTGGCGTCCTACCAGGCTTCTAG...CTG BC726-1\n",
      "GAGAAAGTGGTGTCGGAAAAGCTGGCGTCCTACCAGGCTTCTAG...CTG BC726-2\n",
      "GAGAAAGTGGTGTCGGAAAAGCTGGCGTCCTACCAGGCTTCTAG...CTG BC727-1\n",
      "GAGAAAGTGGTGTCGGAAAAGCTGGCGTCCTACCAGGCTTCTAG...CTG BC727-2\n",
      "GAGAAAGTGGTGTCGGAAAAGCTGGCGTCCTACCAGGCTTCTAG...CTG BC728-1\n",
      "GAGAAAGTGGTGTCGGAAAAGCTGGCGTCCTACCAGGCTTCTAG...CTG BC728-2\n",
      "...\n",
      "GAGAAAGTGGTGTCGGAAAAGCTGGCGTCCTACCAGGCTTCTAG...CTG TAP1483-2\n",
      "['Norte', 'Norte', 'Norte', 'Norte', 'Norte', 'Norte', 'Norte', 'Norte', 'Norte', 'Norte', 'Norte', 'Norte', 'Sul', 'Sul', 'Sul', 'Sul', 'Sul', 'Sul', 'Sul', 'Sul', 'Sul', 'Sul', 'Sul', 'Sul', 'Sul', 'Sul', 'Sul', 'Sul', 'Sul', 'Sul', 'Sul', 'Sul', 'Sul', 'Sul', 'Sul', 'Sul', 'Sul', 'Sul', 'Sul', 'Sul', 'Sul', 'Sul', 'Sul', 'Sul', 'Sul', 'Sul', 'Sul', 'Sul', 'Sul', 'Sul', 'Sul', 'Sul', 'Sul', 'Sul', 'Sul', 'Sul', 'Norte', 'Norte', 'Norte', 'Norte', 'Norte', 'Norte', 'Norte', 'Norte', 'Norte', 'Norte', 'Norte', 'Norte', 'Norte', 'Norte', 'Norte', 'Norte', 'Norte', 'Norte', 'Norte', 'Norte', 'Norte', 'Norte', 'Norte', 'Norte', 'Norte', 'Norte', 'Norte', 'Norte']\n"
     ]
    }
   ],
   "source": [
    "from Bio import AlignIO\n",
    "\n",
    "alignment = AlignIO.read(\"/home/nathan/Documents/Doutorado_diversidade_genética/Phylogeogra/AMOVA/nuc_files/exon2/cmyc-phased_exon2.fas\", \"fasta\")\n",
    "print(alignment)\n",
    "populations = []\n",
    "for record in alignment:\n",
    "    if record.id.startswith((\"AA\", \"TAP\", \"SM\")):\n",
    "        populations.append(\"Norte\")\n",
    "    elif record.id.startswith((\"BC\", \"BMD\", \"FC\")):\n",
    "        populations.append(\"Sul\")\n",
    "    else:\n",
    "        populations.append(\"Unknown\")\n",
    "\n",
    "print(populations)"
   ]
  },
  {
   "cell_type": "code",
   "execution_count": 6,
   "metadata": {},
   "outputs": [
    {
     "name": "stdout",
     "output_type": "stream",
     "text": [
      "(84, 301)\n"
     ]
    }
   ],
   "source": [
    "# Converter alinhamento para matriz de caracteres\n",
    "sequence_matrix = np.array([list(str(record.seq)) for record in alignment])\n",
    "\n",
    "#verificar a matriz\n",
    "print(sequence_matrix.shape)"
   ]
  },
  {
   "cell_type": "code",
   "execution_count": 7,
   "metadata": {},
   "outputs": [],
   "source": [
    "# Definir a função p_distance para operar na matriz\n",
    "def p_distance(seq1, seq2):\n",
    "    differences = np.sum((seq1 != seq2) & (seq1 != '-') & (seq2 != '-'))\n",
    "    length = np.sum((seq1 != '-') & (seq2 != '-'))\n",
    "    return differences / length if length > 0 else 0"
   ]
  },
  {
   "cell_type": "code",
   "execution_count": 8,
   "metadata": {},
   "outputs": [
    {
     "name": "stdout",
     "output_type": "stream",
     "text": [
      "[[0.         0.00996678 0.         ... 0.00996678 0.00332226 0.00332226]\n",
      " [0.00996678 0.         0.00996678 ... 0.00664452 0.00664452 0.00664452]\n",
      " [0.         0.00996678 0.         ... 0.00996678 0.00332226 0.00332226]\n",
      " ...\n",
      " [0.00996678 0.00664452 0.00996678 ... 0.         0.00664452 0.00664452]\n",
      " [0.00332226 0.00664452 0.00332226 ... 0.00664452 0.         0.        ]\n",
      " [0.00332226 0.00664452 0.00332226 ... 0.00664452 0.         0.        ]]\n"
     ]
    }
   ],
   "source": [
    "# Calcular a matriz de distâncias\n",
    "distance_matrix = squareform(pdist(sequence_matrix, metric=lambda u, v: p_distance(u, v)))\n",
    "\n",
    "# Exibir a matriz\n",
    "print(distance_matrix)"
   ]
  },
  {
   "cell_type": "code",
   "execution_count": null,
   "metadata": {},
   "outputs": [
    {
     "name": "stdout",
     "output_type": "stream",
     "text": [
      "                                             Sequence  Group\n",
      "0   GAGAAAGTGGTGTCGGAAAAGCTGGCGTCCTACCAGGCTTCTAGGA...  Norte\n",
      "1   GAGAAAGTGGTGTCGGAAAAGCTGGCGTCCTACCAGGCTTCTAGGA...  Norte\n",
      "2   GAGAAAGTGGTGTCGGAAAAGCTGGCGTCCTACCAGGCTTCTAGGA...  Norte\n",
      "3   GAGAAAGTGGTGTCGGAAAAGCTGGCGTCCTACCAGGCTTCTAGGA...  Norte\n",
      "4   GAGAAAGTGGTGTCGGAAAAGCTGGCGTCCTACCAGGCTTCTAGGA...  Norte\n",
      "..                                                ...    ...\n",
      "79  GAGAAAGTGGTGTCGGAAAAGCTGGCGTCCTACCAGGCTTCTAGGA...  Norte\n",
      "80  GAGAAAGTGGTGTCGGAAAAGCTGGCGTCCTACCAGGCTTCTAGGA...  Norte\n",
      "81  GAGAAAGTGGTGTCGGAAAAGCTGGCGTCCTACCAGGCTTCTAGGA...  Norte\n",
      "82  GAGAAAGTGGTGTCGGAAAAGCTGGCGTCCTACCAGGCTTCTAGGA...  Norte\n",
      "83  GAGAAAGTGGTGTCGGAAAAGCTGGCGTCCTACCAGGCTTCTAGGA...  Norte\n",
      "\n",
      "[84 rows x 2 columns]\n"
     ]
    }
   ],
   "source": [
    "# Criar um DataFrame com as sequências e os grupos\n",
    "df_sequences = pd.DataFrame({\n",
    "    'Sequence': [''.join(seq) for seq in sequence_matrix],\n",
    "    'Group': populations\n",
    "})\n",
    "\n",
    "# Exibir o DataFrame\n",
    "print(df_sequences)"
   ]
  },
  {
   "cell_type": "code",
   "execution_count": 10,
   "metadata": {},
   "outputs": [
    {
     "name": "stdout",
     "output_type": "stream",
     "text": [
      "Variância total: 3.608383875982428e-05\n"
     ]
    }
   ],
   "source": [
    "# Calcular a variância total da matriz de distâncias\n",
    "total_variance = np.var(distance_matrix)\n",
    "print(f\"Variância total: {total_variance}\")"
   ]
  },
  {
   "cell_type": "code",
   "execution_count": 11,
   "metadata": {},
   "outputs": [
    {
     "name": "stdout",
     "output_type": "stream",
     "text": [
      "Variância entre grupos: 305.0303236718971\n",
      "p-value: 6.655107691347894e-67\n"
     ]
    }
   ],
   "source": [
    "# Separar as distâncias por grupo\n",
    "distances_norte = distance_matrix[np.array(populations) == 'Norte']\n",
    "distances_sul = distance_matrix[np.array(populations) == 'Sul']\n",
    "\n",
    "# Calcular a variância entre os grupos\n",
    "variance_between_groups = f_oneway(distances_norte.flatten(), distances_sul.flatten())\n",
    "\n",
    "# Exibir a variância entre os grupos\n",
    "print(f\"Variância entre grupos: {variance_between_groups.statistic}\")\n",
    "print(f\"p-value: {variance_between_groups.pvalue}\")"
   ]
  },
  {
   "cell_type": "code",
   "execution_count": 12,
   "metadata": {},
   "outputs": [
    {
     "name": "stdout",
     "output_type": "stream",
     "text": [
      "Variância dentro do grupo Norte: 2.441102722807868e-05\n",
      "Variância dentro do grupo Sul: 4.384011972335944e-05\n"
     ]
    }
   ],
   "source": [
    "# Calcular a variância dentro dos grupos\n",
    "variance_within_norte = np.var(distances_norte)\n",
    "variance_within_sul = np.var(distances_sul)\n",
    "\n",
    "# Exibir as variâncias dentro dos grupos\n",
    "print(f\"Variância dentro do grupo Norte: {variance_within_norte}\")\n",
    "print(f\"Variância dentro do grupo Sul: {variance_within_sul}\")"
   ]
  },
  {
   "cell_type": "code",
   "execution_count": 13,
   "metadata": {},
   "outputs": [
    {
     "name": "stdout",
     "output_type": "stream",
     "text": [
      "Estatística F: 305.0303236718971\n",
      "p-value: 6.655107691347894e-67\n",
      "A diferença entre as variâncias é estatisticamente significativa.\n"
     ]
    }
   ],
   "source": [
    "from scipy.stats import f_oneway\n",
    "\n",
    "# Realizar o teste de ANOVA\n",
    "anova_result = f_oneway(distances_norte.flatten(), distances_sul.flatten())\n",
    "\n",
    "# Exibir os resultados do teste de ANOVA\n",
    "print(f\"Estatística F: {anova_result.statistic}\")\n",
    "print(f\"p-value: {anova_result.pvalue}\")\n",
    "\n",
    "# Verificar se o resultado é significativo\n",
    "alpha = 0.05\n",
    "if anova_result.pvalue < alpha:\n",
    "    print(\"A diferença entre as variâncias é estatisticamente significativa.\")\n",
    "else:\n",
    "    print(\"A diferença entre as variâncias não é estatisticamente significativa.\")"
   ]
  }
 ],
 "metadata": {
  "kernelspec": {
   "display_name": "Python 3",
   "language": "python",
   "name": "python3"
  },
  "language_info": {
   "codemirror_mode": {
    "name": "ipython",
    "version": 3
   },
   "file_extension": ".py",
   "mimetype": "text/x-python",
   "name": "python",
   "nbconvert_exporter": "python",
   "pygments_lexer": "ipython3",
   "version": "3.10.12"
  }
 },
 "nbformat": 4,
 "nbformat_minor": 2
}
