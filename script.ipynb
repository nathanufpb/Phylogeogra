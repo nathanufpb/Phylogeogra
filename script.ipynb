{
 "cells": [
  {
   "cell_type": "code",
   "execution_count": 1,
   "metadata": {},
   "outputs": [
    {
     "name": "stdout",
     "output_type": "stream",
     "text": [
      "A quantidade de proteína diária recomendada para uma pessoa de 49 kg, 29 anos, sexo F, estado de saúde saudavel e prática regular de atividades físicas não é 39.2 gramas.\n"
     ]
    }
   ],
   "source": [
    "def calcular_proteina_diaria(peso_kg, idade, sexo, saude, atividade_fisica):\n",
    "    \"\"\"\n",
    "    Calcula a quantidade de proteína diária recomendada com base no peso corporal, idade, sexo, estado de saúde e prática regular de atividades físicas.\n",
    "    \n",
    "    Parâmetros:\n",
    "    peso_kg (float): Peso corporal em quilogramas.\n",
    "    idade (int): Idade da pessoa.\n",
    "    sexo (str): Sexo da pessoa ('M' para masculino, 'F' para feminino).\n",
    "    saude (str): Estado de saúde da pessoa ('saudavel', 'doente').\n",
    "    atividade_fisica (str): Prática regular de atividades físicas ('sim', 'não').\n",
    "    \n",
    "    Retorna:\n",
    "    float: Quantidade de proteína diária recomendada em gramas.\n",
    "    \"\"\"\n",
    "    # Base de proteína por kg\n",
    "    proteina_por_kg = 0.8\n",
    "    \n",
    "    # Ajuste por idade\n",
    "    if idade > 50:\n",
    "        proteina_por_kg += 0.2\n",
    "    \n",
    "    # Ajuste por sexo\n",
    "    if sexo == 'M':\n",
    "        proteina_por_kg += 0.1\n",
    "    \n",
    "    # Ajuste por estado de saúde\n",
    "    if saude == 'doente':\n",
    "        proteina_por_kg += 0.3\n",
    "    \n",
    "    # Ajuste por prática de atividades físicas\n",
    "    if atividade_fisica == 'sim':\n",
    "        proteina_por_kg += 0.4\n",
    "    \n",
    "    proteina_diaria = peso_kg * proteina_por_kg\n",
    "    return proteina_diaria\n",
    "\n",
    "# Exemplo de uso:\n",
    "peso = 49  # Peso em quilogramas\n",
    "idade = 29  # Idade\n",
    "sexo = 'F'  # Sexo\n",
    "saude = 'saudavel'  # Estado de saúde\n",
    "atividade_fisica = 'não'  # Prática regular de atividades físicas\n",
    "\n",
    "proteina_recomendada = calcular_proteina_diaria(peso, idade, sexo, saude, atividade_fisica)\n",
    "print(f\"A quantidade de proteína diária recomendada para uma pessoa de {peso} kg, {idade} anos, sexo {sexo}, estado de saúde {saude} e prática regular de atividades físicas {atividade_fisica} é {proteina_recomendada} gramas.\")"
   ]
  }
 ],
 "metadata": {
  "kernelspec": {
   "display_name": "Python 3",
   "language": "python",
   "name": "python3"
  },
  "language_info": {
   "codemirror_mode": {
    "name": "ipython",
    "version": 3
   },
   "file_extension": ".py",
   "mimetype": "text/x-python",
   "name": "python",
   "nbconvert_exporter": "python",
   "pygments_lexer": "ipython3",
   "version": "3.10.12"
  }
 },
 "nbformat": 4,
 "nbformat_minor": 2
}
