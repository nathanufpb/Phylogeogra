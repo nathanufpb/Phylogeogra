{
 "cells": [
  {
   "cell_type": "code",
   "execution_count": 2,
   "metadata": {},
   "outputs": [],
   "source": [
    "# Definindo o caminho do arquivo que será utilizado como corte para as sequências\n",
    "arquivo_corte = \"/home/nathan/Documents/Doutorado_diversidade_genética/Phylogeogra/EU025551_EU025679_sequences/DnaSPhase/c-myc_Proceratophrys_boiei_aligned.fas_pairs\""
   ]
  },
  {
   "cell_type": "code",
   "execution_count": 22,
   "metadata": {},
   "outputs": [
    {
     "name": "stdout",
     "output_type": "stream",
     "text": [
      "IDs filtrados: {'#BMD830', '#FC481_1', '#FC481_2', '#BC729_2', '#FC1058_1', '#SM1582', '#SM1553', '#TAP1480', '#AA947_1', '#BC729_1', '#FC1015_2', '#AA946', '#AA925_1', '#BMD840_2', '#SM1580', '#FC1065_1', '#SM1578', '#SM1581_1', '#FC1065_2', '#TAP1475', '#AA936_1', '#TAP1476', '#TAP1477_2', '#BMD376', '#TAP1474_2', '#AA925_2', '#BMD840_1', '#BMD826', '#AA948', '#AA936_2', '#BC765', '#FC1015_1', '#SM1587', '#BC728', '#TAP1477_1', '#TAP1483', '#SM1581_2', '#SM1577', '#FC1038', '#BC766'}\n",
      "IDs salvos em 'filtered_ids.txt'\n"
     ]
    }
   ],
   "source": [
    "#arqui será criado um arquivo com IDs das sequências filtradas com as sequências que possuem similaridade maior que 0.6\n",
    "\n",
    "# Arquivo de entrada\n",
    "input_file = \"/home/nathan/Documents/Doutorado_diversidade_genética/Phylogeogra/EU025551_EU025679_sequences/DnaSPhase/c-myc_Proceratophrys_boiei_aligned.fas_pairs\"\n",
    "\n",
    "# Lista para armazenar IDs filtrados\n",
    "filtered_ids = set()\n",
    "\n",
    "# Variável para armazenar o ID atual\n",
    "current_id = None\n",
    "\n",
    "# Abrir o arquivo para leitura\n",
    "with open(input_file, \"r\") as file:\n",
    "    for line in file:\n",
    "        line = line.strip()\n",
    "        \n",
    "        # Identifica a linha com o ID (IND:)\n",
    "        if line.startswith(\"IND:\"):\n",
    "            current_id = line.split(\":\")[1].strip()  # Captura o ID atual (ex: #FC1015_2)\n",
    "        \n",
    "        # Processa linhas com pares de sequências\n",
    "        elif current_id and \",\" in line:\n",
    "            # Extrai o valor de similaridade (último número da linha)\n",
    "            try:\n",
    "                similarity = float(line.split(\",\")[-1].strip())\n",
    "                # Verifica se está no intervalo desejado\n",
    "                if 0.600 <= similarity <= 1.000:\n",
    "                    filtered_ids.add(current_id)\n",
    "            except ValueError:\n",
    "                # Ignora linhas mal formatadas\n",
    "                continue\n",
    "\n",
    "# Resultado\n",
    "print(\"IDs filtrados:\", filtered_ids)\n",
    "\n",
    "# Salvar IDs filtrados em um arquivo\n",
    "output_file = \"filtered_ids.txt\"\n",
    "with open(output_file, \"w\") as out_file:\n",
    "    for fid in sorted(filtered_ids):\n",
    "        out_file.write(f\"{fid}\\n\")\n",
    "\n",
    "print(f\"IDs salvos em '{output_file}'\")\n"
   ]
  },
  {
   "cell_type": "code",
   "execution_count": 25,
   "metadata": {},
   "outputs": [
    {
     "name": "stdout",
     "output_type": "stream",
     "text": [
      "IDs filtrados: {'BC729_2', 'SM1580', 'BC728', 'BMD840_1', 'FC1038', 'FC1065_1', 'FC481_1', 'BC729_1', 'SM1581_2', 'TAP1476', 'AA948', 'FC1015_2', 'SM1553', 'SM1581_1', 'TAP1477_2', 'BMD376', 'TAP1483', 'SM1577', 'SM1578', 'FC481_2', 'FC1065_2', 'FC1015_1', 'TAP1475', 'TAP1474_2', 'BMD826', 'AA946', 'TAP1477_1', 'BC766', 'BC765', 'AA936_2', 'AA936_1', 'FC1058_1', 'SM1582', 'BMD830', 'AA925_1', 'SM1587', 'TAP1480', 'AA947_1', 'BMD840_2', 'AA925_2'}\n"
     ]
    }
   ],
   "source": [
    "# Caminho do arquivo\n",
    "filtered_ids_path = \"/home/nathan/Documents/Doutorado_diversidade_genética/Phylogeogra/filtered_ids.txt\"\n",
    "\n",
    "# Ler o arquivo e imprimir o conteúdo\n",
    "with open(filtered_ids_path, \"r\") as file:\n",
    "    filtered_ids_content = file.read()\n",
    "\n",
    "#print(filtered_ids_content)\n",
    "\n",
    "#remova todos os # dos IDs\n",
    "filtered_ids = set()\n",
    "for line in filtered_ids_content.split(\"\\n\"):\n",
    "    line = line.strip()\n",
    "    if line:\n",
    "        filtered_ids.add(line.lstrip(\"#\"))\n",
    "\n",
    "print(\"IDs filtrados:\", filtered_ids)\n",
    "\n"
   ]
  },
  {
   "cell_type": "code",
   "execution_count": 34,
   "metadata": {
    "vscode": {
     "languageId": "ruby"
    }
   },
   "outputs": [
    {
     "name": "stdout",
     "output_type": "stream",
     "text": [
      "Sequências filtradas salvas em '/home/nathan/Documents/Doutorado_diversidade_genética/Phylogeogra/EU025551_EU025679_sequences/c-myc_Proceratophrys_boiei_aligned_filteredphase.fas'\n"
     ]
    }
   ],
   "source": [
    "from Bio import SeqIO\n",
    "\n",
    "# Caminho do arquivo de alinhamento\n",
    "arquivo_alinhamento_removido = \"/home/nathan/Documents/Doutorado_diversidade_genética/Phylogeogra/EU025551_EU025679_sequences/c-myc_Proceratophrys_boiei_aligned.fas\"\n",
    "\n",
    "# Caminho do arquivo de saída\n",
    "arquivo_filtrado = \"/home/nathan/Documents/Doutorado_diversidade_genética/Phylogeogra/EU025551_EU025679_sequences/c-myc_Proceratophrys_boiei_aligned_filteredphase.fas\"\n",
    "\n",
    "# Ler as sequências do arquivo de alinhamento\n",
    "sequencias = list(SeqIO.parse(arquivo_alinhamento_removido, \"fasta\"))\n",
    "\n",
    "# Filtrar as sequências que possuem identificação presente nos IDs filtrados\n",
    "sequencias_filtradas = [seq for seq in sequencias if seq.id in filtered_ids]\n",
    "\n",
    "# Salvar as sequências filtradas no arquivo de saída\n",
    "SeqIO.write(sequencias_filtradas, arquivo_filtrado, \"fasta\")\n",
    "\n",
    "print(f\"Sequências filtradas salvas em '{arquivo_filtrado}'\")"
   ]
  },
  {
   "cell_type": "code",
   "execution_count": 33,
   "metadata": {},
   "outputs": [
    {
     "name": "stdout",
     "output_type": "stream",
     "text": [
      "Número de sequências filtradas: 40\n"
     ]
    }
   ],
   "source": [
    "from Bio import SeqIO\n",
    "\n",
    "# Caminho do arquivo de sequências filtradas\n",
    "arquivo_filtrado = \"/home/nathan/Documents/Doutorado_diversidade_genética/Phylogeogra/EU025551_EU025679_sequences/filtered_sequences.fas\"\n",
    "\n",
    "# Contar o número de sequências no arquivo\n",
    "num_sequencias_filtradas = sum(1 for _ in SeqIO.parse(arquivo_filtrado, \"fasta\"))\n",
    "\n",
    "print(f\"Número de sequências filtradas: {num_sequencias_filtradas}\")"
   ]
  }
 ],
 "metadata": {
  "kernelspec": {
   "display_name": "Python 3",
   "language": "python",
   "name": "python3"
  },
  "language_info": {
   "codemirror_mode": {
    "name": "ipython",
    "version": 3
   },
   "file_extension": ".py",
   "mimetype": "text/x-python",
   "name": "python",
   "nbconvert_exporter": "python",
   "pygments_lexer": "ipython3",
   "version": "3.10.12"
  }
 },
 "nbformat": 4,
 "nbformat_minor": 2
}
