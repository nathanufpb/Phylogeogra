{
 "cells": [
  {
   "cell_type": "code",
   "execution_count": 16,
   "metadata": {},
   "outputs": [
    {
     "name": "stdout",
     "output_type": "stream",
     "text": [
      "PDF gerado: tabela_formatada.pdf\n"
     ]
    }
   ],
   "source": [
    "import pandas as pd\n",
    "from reportlab.platypus import SimpleDocTemplate, Table, TableStyle\n",
    "from reportlab.lib import colors\n",
    "from reportlab.lib.pagesizes import A4\n",
    "\n",
    "# Carregar a tabela CSV\n",
    "csv_file = \"/home/nathan/Documents/Doutorado_diversidade_genética/Phylogeogra/DnaSP/Script_Python_statistics/summary_statistics_output.csv\"\n",
    "df = pd.read_csv(csv_file)\n",
    "\n",
    "# Criar um documento PDF\n",
    "pdf_file = \"tabela_formatada.pdf\"\n",
    "doc = SimpleDocTemplate(pdf_file, pagesize=A4)\n",
    "\n",
    "# Converter o DataFrame em uma lista de listas\n",
    "data = [list(df.columns)] + df.values.tolist()\n",
    "\n",
    "# Definir a largura das colunas proporcionalmente à largura da página\n",
    "page_width, page_height = A4\n",
    "col_widths = [page_width / len(df.columns)] * len(df.columns)\n",
    "\n",
    "# Configurar a tabela para o PDF\n",
    "table = Table(data, colWidths=col_widths)\n",
    "table.setStyle(TableStyle([\n",
    "    ('BACKGROUND', (0, 0), (-1, 0), colors.grey),\n",
    "    ('TEXTCOLOR', (0, 0), (-1, 0), colors.whitesmoke),\n",
    "    ('ALIGN', (0, 0), (-1, -1), 'CENTER'),\n",
    "    ('FONTNAME', (0, 0), (-1, 0), 'Helvetica-Bold'),\n",
    "    ('FONTSIZE', (0, 0), (-1, -1), 10),\n",
    "    ('BOTTOMPADDING', (0, 0), (-1, 0), 12),\n",
    "    ('GRID', (0, 0), (-1, -1), 0.5, colors.black),\n",
    "    ('VALIGN', (0, 0), (-1, 0), 'MIDDLE'),\n",
    "    ('ROWHEIGHT', (0, 0), (-1, 0), 36),  # Ajustar a altura da linha do cabeçalho\n",
    "    ('SPLITBYROW', (0, 0), (-1, 0), True)  # Permitir quebra de linha no cabeçalho\n",
    "]))\n",
    "\n",
    "# Adicionar a tabela ao documento\n",
    "doc.build([table])\n",
    "\n",
    "print(f\"PDF gerado: {pdf_file}\")\n"
   ]
  }
 ],
 "metadata": {
  "kernelspec": {
   "display_name": "Python 3",
   "language": "python",
   "name": "python3"
  },
  "language_info": {
   "codemirror_mode": {
    "name": "ipython",
    "version": 3
   },
   "file_extension": ".py",
   "mimetype": "text/x-python",
   "name": "python",
   "nbconvert_exporter": "python",
   "pygments_lexer": "ipython3",
   "version": "3.10.12"
  }
 },
 "nbformat": 4,
 "nbformat_minor": 2
}
