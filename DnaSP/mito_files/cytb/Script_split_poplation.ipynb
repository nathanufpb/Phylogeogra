{
 "cells": [
  {
   "cell_type": "code",
   "execution_count": 26,
   "metadata": {},
   "outputs": [],
   "source": [
    "#fazer a divisão dos arquivos fasta por localidade através do ID da sequência levando em consideração apenas as letras do ID\n",
    "from Bio import SeqIO\n",
    "from collections import defaultdict\n",
    "import re\n",
    "import os\n",
    "\n",
    "# Ler o arquivo fasta\n",
    "arquivo_fasta = '/home/nathan/Documents/Doutorado_diversidade_genética/Phylogeogra/DnaSP/mito_files/cytb/cytb_Proceratophrys_boiei_aligned.fas'\n",
    "sequencias_por_localidade = defaultdict(list)\n",
    "\n",
    "# Separar as sequências por localidade\n",
    "for record in SeqIO.parse(arquivo_fasta, \"fasta\"):\n",
    "    localidade = re.match(r'[A-Za-z]+', record.id).group()  # Extrair apenas as letras do ID\n",
    "    sequencias_por_localidade[localidade].append(record)\n",
    "\n",
    "# Escrever as sequências em novos arquivos fasta\n",
    "for localidade, sequencias in sequencias_por_localidade.items():\n",
    "    with open(f\"{localidade}_sequences.fas\", \"w\") as output_handle:\n",
    "        SeqIO.write(sequencias, output_handle, \"fasta\")"
   ]
  },
  {
   "cell_type": "code",
   "execution_count": 29,
   "metadata": {},
   "outputs": [],
   "source": [
    "#agora crie uma pasta para cada sequência da mesma localidade e insira os arquivos dentro das suas respectivas pastas\n",
    "\n",
    "import os\n",
    "\n",
    "# Criar pastas para cada localidade e mover os arquivos para as respectivas pastas\n",
    "for localidade, sequencias in sequencias_por_localidade.items():\n",
    "    # Criar a pasta se não existir\n",
    "    if not os.path.exists(localidade):\n",
    "        os.makedirs(localidade)\n",
    "    \n",
    "    # Caminho do arquivo de saída\n",
    "    caminho_arquivo = os.path.join(localidade, f\"{localidade}_sequences.fas\")\n",
    "    \n",
    "    # Escrever as sequências no arquivo dentro da pasta\n",
    "    with open(caminho_arquivo, \"w\") as output_handle:\n",
    "        SeqIO.write(sequencias, output_handle, \"fasta\")\n",
    "\n",
    "\n",
    "\n",
    "\n",
    "#dentro de cada pasta converta as no formato .fas para .fasta\n",
    "#import os\n",
    "\n",
    "# Converter os arquivos .fas para .fasta\n",
    "for localidade in sequencias_por_localidade.keys():\n",
    "    caminho_arquivo = os.path.join(localidade, f\"{localidade}_sequences.fas\")\n",
    "    caminho_arquivo_novo = os.path.join(localidade, f\"{localidade}_sequences.fasta\")\n",
    "    \n",
    "    os.rename(caminho_arquivo, caminho_arquivo_novo)\n",
    "\n",
    "\n"
   ]
  },
  {
   "cell_type": "code",
   "execution_count": 30,
   "metadata": {
    "vscode": {
     "languageId": "ruby"
    }
   },
   "outputs": [],
   "source": [
    "# Adicionar \"mt_\" no início de todas as sequências dos arquivos .fasta em todas as pastas criadas\n",
    "for root, dirs, files in os.walk(base_dir):\n",
    "    for file_name in files:\n",
    "        if file_name.endswith(\".fasta\"):\n",
    "            caminho_arquivo = os.path.join(root, file_name)\n",
    "            \n",
    "            # Ler as sequências do arquivo\n",
    "            sequencias = list(SeqIO.parse(caminho_arquivo, \"fasta\"))\n",
    "            \n",
    "            # Adicionar \"mt_\" no início do ID de cada sequência\n",
    "            for seq in sequencias:\n",
    "                seq.id = \"mt_\" + seq.id\n",
    "                seq.description = seq.id\n",
    "            \n",
    "            # Escrever as sequências modificadas de volta no arquivo\n",
    "            with open(caminho_arquivo, \"w\") as output_handle:\n",
    "                SeqIO.write(sequencias, output_handle, \"fasta\")\n",
    "for localidade, sequencias in sequencias_por_localidade.items():\n",
    "    caminho_arquivo = os.path.join(localidade, f\"{localidade}_sequences.fasta\")\n",
    "    \n",
    "    # Ler as sequências do arquivo\n",
    "    sequencias = list(SeqIO.parse(caminho_arquivo, \"fasta\"))\n",
    "    \n",
    "    \n",
    "    # Escrever as sequências modificadas de volta no arquivo\n",
    "    with open(caminho_arquivo, \"w\") as output_handle:\n",
    "        SeqIO.write(sequencias, output_handle, \"fasta\")"
   ]
  },
  {
   "cell_type": "code",
   "execution_count": 31,
   "metadata": {},
   "outputs": [],
   "source": [
    "# Renomear cada arquivo .fasta dentro das pastas de códigos e adicionar \"mt_\" no início do nome do arquivo\n",
    "for localidade in sequencias_por_localidade.keys():\n",
    "    for root, dirs, files in os.walk(localidade):\n",
    "        for file_name in files:\n",
    "            if file_name.endswith(\".fasta\"):\n",
    "                caminho_antigo = os.path.join(root, file_name)\n",
    "                caminho_novo = os.path.join(root, \"mt_\" + file_name)\n",
    "                os.rename(caminho_antigo, caminho_novo)"
   ]
  }
 ],
 "metadata": {
  "kernelspec": {
   "display_name": "Python 3",
   "language": "python",
   "name": "python3"
  },
  "language_info": {
   "codemirror_mode": {
    "name": "ipython",
    "version": 3
   },
   "file_extension": ".py",
   "mimetype": "text/x-python",
   "name": "python",
   "nbconvert_exporter": "python",
   "pygments_lexer": "ipython3",
   "version": "3.10.12"
  }
 },
 "nbformat": 4,
 "nbformat_minor": 2
}
